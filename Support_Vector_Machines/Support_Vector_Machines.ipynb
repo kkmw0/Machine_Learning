{
 "cells": [
  {
   "cell_type": "markdown",
   "metadata": {},
   "source": [
    "# Assignement 5: Support Vector Machines\n",
    "\n",
    "5번째 과제에서는 **Support Vector Machines algorithm**과 python의 **CVXOPT API**를 사용하여 Decision boundary와 Support vectore을 구해봅시다. \n",
    "수학적 형태의 알고리즘은 다소 이해하기 쉽지만, **CVXOPT API**를 사용한 매트릭스 형태의 알고리즘 구현은 처음에는 어려울 수 있습니다.   \n",
    "이번 과제에서 API에 필요한 입력뿐만 아니라, 데이터들을 적절하게 벡터화하는 표기법을 도출하는 데 필요한 단계를 구현할 것입니다.   \n",
    "Dataset은 이전 Logistic regression에서 사용한 ex2data1.txt를 사용합니다.  \n",
    "*Dataset from Andrew Ng's coursera lecture*"
   ]
  },
  {
   "cell_type": "code",
   "execution_count": 9,
   "metadata": {},
   "outputs": [],
   "source": [
    "import numpy as np\n",
    "import pandas as pd\n",
    "from matplotlib import pyplot as plt\n",
    "import seaborn as sns\n",
    "sns.set()\n",
    "\n",
    "from sklearn.svm import SVC\n",
    "from cvxopt import matrix as cvxopt_matrix\n",
    "from cvxopt import solvers as cvxopt_solvers"
   ]
  },
  {
   "cell_type": "markdown",
   "metadata": {},
   "source": [
    "## Quesion1: SVM를 구현하기위한 데이터를 읽어옵시다."
   ]
  },
  {
   "cell_type": "code",
   "execution_count": 10,
   "metadata": {},
   "outputs": [],
   "source": [
    "# Put your code\n",
    "train_data = np.loadtxt(\"ex2data1.txt\", delimiter = ',')"
   ]
  },
  {
   "cell_type": "markdown",
   "metadata": {},
   "source": [
    "## 이전 과제해서 구현했듯이, 학생들의 점수 분포를 나타내볼까요?  \n",
    "\n",
    "Exam 1, Exam 2를 각각 x,y 축으로 놓고, Admission의 결과에 따라 1인 경우 파란 삼각형, 0인 경우 노란 사각형으로 표시하세요."
   ]
  },
  {
   "cell_type": "code",
   "execution_count": 11,
   "metadata": {},
   "outputs": [
    {
     "data": {
      "image/png": "[encoded data removed]",
      "text/plain": [
       "<Figure size 432x288 with 1 Axes>"
      ]
     },
     "metadata": {},
     "output_type": "display_data"
    }
   ],
   "source": [
    "# Put your code\n",
    "blue = train_data[:, 2] == 1\n",
    "yellow = train_data[:, 2] == 0\n",
    "\n",
    "plt.scatter(train_data[blue, 0], train_data[blue, 1], marker='^')\n",
    "plt.scatter(train_data[yellow, 0], train_data[yellow, 1], marker='s')\n",
    "plt.show()"
   ]
  },
  {
   "cell_type": "markdown",
   "metadata": {},
   "source": [
    "## Quesion2: Data arrangement  \n",
    "\n",
    "읽어온 Data를 요구사항에 맞게 정리해봅시다. \n",
    "\n",
    "#### 1. Ndarray 'X'를 정의한다. \n",
    "* X는 먼저 dataset에서 admission이 1인 학생의 점수를 우선적으로 배치하고 그 다음으로 admission이 0인 학생들의 점수를 배치한다.  \n",
    "쉽게말해서 합격인 학생들의 점수와 불합격인 학생들의 점수를 stack하면 된다.\n",
    "\n",
    "| Exam 1 | Exam 2 |\n",
    "| --- | --- |\n",
    "|admin_data | admin_data |\n",
    "|admin_data | admin_data |\n",
    "| ... | ... |\n",
    "| ... | ... |\n",
    "|no_admin_data | no_admin_data |\n",
    "|no_admin_data | no_admin_data |\n",
    "\n",
    "#### 2. Ndarray 'y'를 정의한다. \n",
    "* y는 각 점수들에 대한 admission을 나타내면 된다. 즉 X의 데이터와 상응하는 admission value를 가지고 있으면 된다. 여기서 변경할 점은 불합격인 학생들의 admission value를 0이 아닌 -1로 대체해준다.  \n",
    "\n",
    "| admission |\n",
    "| --- |\n",
    "| 1 |\n",
    "| 1 |\n",
    "| 1 |\n",
    "| ... |\n",
    "| -1 |\n",
    "| -1 |\n",
    "| -1 |  \n",
    "\n",
    "해당 구현을 진행했다면, X와 y를 출력하자.  "
   ]
  },
  {
   "cell_type": "code",
   "execution_count": 12,
   "metadata": {},
   "outputs": [
    {
     "name": "stdout",
     "output_type": "stream",
     "text": [
      "[[60.18259939 86.3085521 ]\n",
      " [79.03273605 75.34437644]\n",
      " [61.10666454 96.51142588]\n",
      " [75.02474557 46.55401354]\n",
      " [76.0987867  87.42056972]\n",
      " [84.43281996 43.53339331]\n",
      " [82.30705337 76.4819633 ]\n",
      " [69.36458876 97.71869196]\n",
      " [53.97105215 89.20735014]\n",
      " [69.07014406 52.74046973]\n",
      " [70.66150955 92.92713789]\n",
      " [76.97878373 47.57596365]\n",
      " [89.67677575 65.79936593]\n",
      " [77.92409145 68.97235999]\n",
      " [62.27101367 69.95445795]\n",
      " [80.19018075 44.82162893]\n",
      " [61.37928945 72.80788731]\n",
      " [85.40451939 57.05198398]\n",
      " [52.04540477 69.43286012]\n",
      " [64.17698887 80.90806059]\n",
      " [83.90239366 56.30804622]\n",
      " [94.44336777 65.56892161]\n",
      " [77.19303493 70.4582    ]\n",
      " [97.77159928 86.72782233]\n",
      " [62.0730638  96.76882412]\n",
      " [91.5649745  88.69629255]\n",
      " [79.94481794 74.16311935]\n",
      " [99.27252693 60.999031  ]\n",
      " [90.54671411 43.39060181]\n",
      " [97.64563396 68.86157272]\n",
      " [74.24869137 69.82457123]\n",
      " [71.79646206 78.45356225]\n",
      " [75.39561147 85.75993667]\n",
      " [40.45755098 97.53518549]\n",
      " [80.27957401 92.11606081]\n",
      " [66.74671857 60.99139403]\n",
      " [64.03932042 78.03168802]\n",
      " [72.34649423 96.22759297]\n",
      " [60.45788574 73.0949981 ]\n",
      " [58.84095622 75.85844831]\n",
      " [99.8278578  72.36925193]\n",
      " [47.26426911 88.475865  ]\n",
      " [50.4581598  75.80985953]\n",
      " [88.91389642 69.8037889 ]\n",
      " [94.83450672 45.6943068 ]\n",
      " [67.31925747 66.58935318]\n",
      " [57.23870632 59.51428198]\n",
      " [80.366756   90.9601479 ]\n",
      " [68.46852179 85.5943071 ]\n",
      " [75.47770201 90.424539  ]\n",
      " [78.63542435 96.64742717]\n",
      " [94.09433113 77.15910509]\n",
      " [90.44855097 87.50879176]\n",
      " [74.49269242 84.84513685]\n",
      " [89.84580671 45.35828361]\n",
      " [83.48916274 48.3802858 ]\n",
      " [42.26170081 87.10385094]\n",
      " [99.31500881 68.77540947]\n",
      " [55.34001756 64.93193801]\n",
      " [74.775893   89.5298129 ]\n",
      " [34.62365962 78.02469282]\n",
      " [30.28671077 43.89499752]\n",
      " [35.84740877 72.90219803]\n",
      " [45.08327748 56.31637178]\n",
      " [95.86155507 38.22527806]\n",
      " [75.01365839 30.60326323]\n",
      " [39.53833914 76.03681085]\n",
      " [67.94685548 46.67857411]\n",
      " [67.37202755 42.83843832]\n",
      " [50.53478829 48.85581153]\n",
      " [34.21206098 44.2095286 ]\n",
      " [93.1143888  38.80067034]\n",
      " [61.83020602 50.25610789]\n",
      " [38.7858038  64.99568096]\n",
      " [52.10797973 63.12762377]\n",
      " [40.23689374 71.16774802]\n",
      " [54.63510555 52.21388588]\n",
      " [33.91550011 98.86943574]\n",
      " [74.78925296 41.57341523]\n",
      " [34.18364003 75.23772034]\n",
      " [51.54772027 46.85629026]\n",
      " [82.36875376 40.61825516]\n",
      " [51.04775177 45.82270146]\n",
      " [62.22267576 52.06099195]\n",
      " [34.52451385 60.39634246]\n",
      " [50.28649612 49.80453881]\n",
      " [49.58667722 59.80895099]\n",
      " [32.57720017 95.59854761]\n",
      " [35.28611282 47.02051395]\n",
      " [56.2538175  39.26147251]\n",
      " [30.05882245 49.59297387]\n",
      " [44.66826172 66.45008615]\n",
      " [66.56089447 41.09209808]\n",
      " [49.07256322 51.88321182]\n",
      " [32.72283304 43.30717306]\n",
      " [60.45555629 42.50840944]\n",
      " [82.22666158 42.71987854]\n",
      " [42.07545454 78.844786  ]\n",
      " [52.34800399 60.76950526]\n",
      " [55.48216114 35.57070347]] [[ 1.]\n",
      " [ 1.]\n",
      " [ 1.]\n",
      " [ 1.]\n",
      " [ 1.]\n",
      " [ 1.]\n",
      " [ 1.]\n",
      " [ 1.]\n",
      " [ 1.]\n",
      " [ 1.]\n",
      " [ 1.]\n",
      " [ 1.]\n",
      " [ 1.]\n",
      " [ 1.]\n",
      " [ 1.]\n",
      " [ 1.]\n",
      " [ 1.]\n",
      " [ 1.]\n",
      " [ 1.]\n",
      " [ 1.]\n",
      " [ 1.]\n",
      " [ 1.]\n",
      " [ 1.]\n",
      " [ 1.]\n",
      " [ 1.]\n",
      " [ 1.]\n",
      " [ 1.]\n",
      " [ 1.]\n",
      " [ 1.]\n",
      " [ 1.]\n",
      " [ 1.]\n",
      " [ 1.]\n",
      " [ 1.]\n",
      " [ 1.]\n",
      " [ 1.]\n",
      " [ 1.]\n",
      " [ 1.]\n",
      " [ 1.]\n",
      " [ 1.]\n",
      " [ 1.]\n",
      " [ 1.]\n",
      " [ 1.]\n",
      " [ 1.]\n",
      " [ 1.]\n",
      " [ 1.]\n",
      " [ 1.]\n",
      " [ 1.]\n",
      " [ 1.]\n",
      " [ 1.]\n",
      " [ 1.]\n",
      " [ 1.]\n",
      " [ 1.]\n",
      " [ 1.]\n",
      " [ 1.]\n",
      " [ 1.]\n",
      " [ 1.]\n",
      " [ 1.]\n",
      " [ 1.]\n",
      " [ 1.]\n",
      " [ 1.]\n",
      " [-1.]\n",
      " [-1.]\n",
      " [-1.]\n",
      " [-1.]\n",
      " [-1.]\n",
      " [-1.]\n",
      " [-1.]\n",
      " [-1.]\n",
      " [-1.]\n",
      " [-1.]\n",
      " [-1.]\n",
      " [-1.]\n",
      " [-1.]\n",
      " [-1.]\n",
      " [-1.]\n",
      " [-1.]\n",
      " [-1.]\n",
      " [-1.]\n",
      " [-1.]\n",
      " [-1.]\n",
      " [-1.]\n",
      " [-1.]\n",
      " [-1.]\n",
      " [-1.]\n",
      " [-1.]\n",
      " [-1.]\n",
      " [-1.]\n",
      " [-1.]\n",
      " [-1.]\n",
      " [-1.]\n",
      " [-1.]\n",
      " [-1.]\n",
      " [-1.]\n",
      " [-1.]\n",
      " [-1.]\n",
      " [-1.]\n",
      " [-1.]\n",
      " [-1.]\n",
      " [-1.]\n",
      " [-1.]]\n"
     ]
    }
   ],
   "source": [
    "# Put your code\n",
    "X = np.concatenate((train_data[blue, :2], train_data[yellow, :2]), axis = 0)\n",
    "y = (np.concatenate((train_data[blue, 2], np.where(train_data[yellow, 2] == 0, -1, train_data[yellow, 2])), axis = 0)).reshape(100,1)\n",
    "print(X, y)"
   ]
  },
  {
   "cell_type": "markdown",
   "metadata": {},
   "source": [
    "## Support Vector Machines algorithm\n",
    "\n",
    "수업시간에 배운 수학적으로 유도한 것을 다소 이해하기 쉽지만, Python의 **CVXOPT**을 사용해서 구현하는 것엔 익숙하지 않으실 수 있습니다.  \n",
    "  \n",
    "  \n",
    "수업시간에 배운대로 SVM Problem을 해결하기 위해선 다음 단계를 따릅니다. \n",
    "* Create P where $$H_{i,j} = y^iy^j<x^ix^j>$$  \n",
    "* Calculate  $$ w = \\sum_{i=1}^{m} y^i\\alpha_ix^i$$\n",
    "* Determine the set of support vectors S by finding the indices such that $$\\alpha_i > 0$$\n",
    "* Calculate the intercept term using $$ b = y^s - \\sum_{m\\in S}\\alpha_m y^m<x^mx^s>$$\n",
    "\n",
    "최종적으로 Decision boundary를 구할 수 있고, Support vectors을 구할 수 있습니다.  \n",
    "\n",
    "우리는 cvxopt모듈에 있는 cvxopt_solvers.qp()라는 함수를 사용할 예정입니다.  \n",
    "Ref: https://cvxopt.org/userguide/coneprog.html)\n",
    "\n",
    "참조 문서에도 나와있듯이 다음과 같은 수식을 사용합니다.  \n",
    "$$Minimize {1\\over2}x^TPx+q^Tx$$\n",
    "$$s.t.  Gx <= h$$\n",
    "$$Ax = b$$\n",
    "\n",
    "그리고 이 것을 함수 parameter를 다음과 같이 이용합니다. \n",
    "$$cvxopt.solvers.qp(P, q[, G, h[, A, b[, solver[, initvals]]]])$$  \n",
    "\n",
    "Dual problem을 상기해보면 다음과 같다. \n",
    "$${Max\\over \\alpha} \\sum_{i}^{m} \\alpha_i - {1 \\over 2}\\sum_{i,j}^{m}y^iy^j\\alpha_i\\alpha_j<x^ix^j>$$  \n",
    "\n",
    "위에서 언급한 matrix H를 치환해보자.  \n",
    "$$ {Max\\over \\alpha} \\sum_{i}^{m}\\alpha - {1\\over 2)}\\alpha^TH\\alpha$$\n",
    "$$ s.t. -\\alpha_i <= 0$$\n",
    "$$ s.t. y^T\\alpha=0$$  "
   ]
  },
  {
   "cell_type": "markdown",
   "metadata": {},
   "source": [
    "## Quesion3: Transform Ndarray into cvxopt format  \n",
    "\n",
    "해결하려는 문제가 vectorized form으로 변했습니다.  \n",
    "우리는 다음으로 numpy array(Ndarray)를 cvxopt format으로 변환해줘야 합니다.  \n",
    "  \n",
    "  \n",
    "앞서 언급한 cvxopt_solvers.qp에 들어가는 parameter를 SVM에 맞게 변환해주시면 됩니다.  \n",
    "cvxopt 모듈의 cvxopt_matrix()를 사용하고, 인자로는 Ndarray를 넣어주시면 변환이 됩니다. \n",
    "해당 질문은 cvxopt_solvers.qp에 들어갈 인자를 구하는 section입니다.  "
   ]
  },
  {
   "cell_type": "code",
   "execution_count": 13,
   "metadata": {},
   "outputs": [],
   "source": [
    "# Put your code \n",
    "# Calulate H\n",
    "m = X.shape\n",
    "H = np.dot(y, y.T) * np.dot(X, X.T)\n",
    "\n",
    "# Transform data into cvxopt format\n",
    "P = cvxopt_matrix(H)\n",
    "q = cvxopt_matrix(np.ones((m[0], 1)) * -1) \n",
    "G = cvxopt_matrix(np.vstack((np.eye(m[0]) * -1, np.eye(m[0]))))\n",
    "h = cvxopt_matrix(np.hstack((np.zeros(m[0]), np.ones(m[0]))))\n",
    "A = cvxopt_matrix(y.reshape(1, m[0]))\n",
    "b = cvxopt_matrix(np.zeros(1))\n",
    "\n",
    "# Setting solver parameter (decrease tolerance option)\n",
    "cvxopt_solvers.options['show_progress'] = False\n",
    "cvxopt_solvers.options['abstol'] = 1e-10\n",
    "cvxopt_solvers.options['reltol'] = 1e-10\n",
    "cvxopt_solvers.options['feastol'] = 1e-10"
   ]
  },
  {
   "cell_type": "markdown",
   "metadata": {},
   "source": [
    "## Quesion4: Run solver then, find w and b, 이전 질문에서 변환한 matrix들을 solver에 넣어서 실행해봅니다.alpha값들을 통해서 w와 b를 구해봅시다. "
   ]
  },
  {
   "cell_type": "code",
   "execution_count": 14,
   "metadata": {},
   "outputs": [
    {
     "name": "stdout",
     "output_type": "stream",
     "text": [
      "Alphas=  [1.         0.61649877 1.         1.         1.         1.\n",
      " 1.         1.         1.         1.         1.         1.\n",
      " 0.76083681 0.85566195 1.         1.         1.         1.\n",
      " 1.         1.         1.         1.        ]\n",
      "w =  [0.14878154 0.14396855]\n",
      "b =  [-16.86461051]\n"
     ]
    }
   ],
   "source": [
    "# Put your code \n",
    "sol = cvxopt_solvers.qp(P, q, G, h, A, b)\n",
    "alphas = np.array(sol['x'])\n",
    "\n",
    "# Selecting the set of indices S corresponding to non zero values.\n",
    "S = (alphas > 1e-4).flatten()\n",
    "\n",
    "# calculate w and b \n",
    "w = np.dot(X.T, alphas * y)\n",
    "b = y[S] - np.dot(X[S], w)\n",
    "\n",
    "print(\"Alphas= \", alphas[alphas > 1e-4])\n",
    "print(\"w = \", w.flatten())\n",
    "print(\"b = \", b[0])"
   ]
  },
  {
   "cell_type": "markdown",
   "metadata": {},
   "source": [
    "### 값을 제대로 구한 것인지 확인하고 싶으시면  sklearn.svm import SVC 를 사용하시면 바로 구하실 수 있습니다. "
   ]
  },
  {
   "cell_type": "code",
   "execution_count": 15,
   "metadata": {},
   "outputs": [
    {
     "name": "stdout",
     "output_type": "stream",
     "text": [
      "w =  [[0.14853179 0.14401112]]\n",
      "b =  [-17.8162051]\n",
      "Indices of support vectors: \n",
      " [64 66 67 71 74 77 78 81 87 96 97  3  5  9 11 15 18 35 42 46 56 58]\n",
      "Support vectors: \n",
      " [[95.86155507 38.22527806]\n",
      " [39.53833914 76.03681085]\n",
      " [67.94685548 46.67857411]\n",
      " [93.1143888  38.80067034]\n",
      " [52.10797973 63.12762377]\n",
      " [33.91550011 98.86943574]\n",
      " [74.78925296 41.57341523]\n",
      " [82.36875376 40.61825516]\n",
      " [32.57720017 95.59854761]\n",
      " [82.22666158 42.71987854]\n",
      " [42.07545454 78.844786  ]\n",
      " [75.02474557 46.55401354]\n",
      " [84.43281996 43.53339331]\n",
      " [69.07014406 52.74046973]\n",
      " [76.97878373 47.57596365]\n",
      " [80.19018075 44.82162893]\n",
      " [52.04540477 69.43286012]\n",
      " [66.74671857 60.99139403]\n",
      " [50.4581598  75.80985953]\n",
      " [57.23870632 59.51428198]\n",
      " [42.26170081 87.10385094]\n",
      " [55.34001756 64.93193801]]\n"
     ]
    }
   ],
   "source": [
    "clf = SVC(C = 10, kernel = 'linear')\n",
    "clf.fit(X, y.ravel()) \n",
    "\n",
    "print('w = ',clf.coef_)\n",
    "print('b = ',clf.intercept_)\n",
    "print('Indices of support vectors: \\n', clf.support_)\n",
    "print('Support vectors: \\n', clf.support_vectors_)"
   ]
  },
  {
   "cell_type": "markdown",
   "metadata": {},
   "source": [
    "## Quesion5: 앞서 구한 w와 b로 Decision boundary와 추가적으로 Support vectors도 plot합니다. \n",
    "  \n",
    "  \n",
    "#### 여기서 Support vector는 sklearn.svm 모듈을 통해 구한 것이 아닌 cvxopt solver로 구한 값으로 구하셔야 합니다. \n",
    "**Decision boundary** $$ w^Tx +b = 0 $$"
   ]
  },
  {
   "cell_type": "code",
   "execution_count": 34,
   "metadata": {},
   "outputs": [
    {
     "data": {
      "image/png": "[encoded data removed]",
      "text/plain": [
       "<Figure size 432x288 with 1 Axes>"
      ]
     },
     "metadata": {},
     "output_type": "display_data"
    }
   ],
   "source": [
    "# Put your code\n",
    "# Plot All data and Decision boundary\n",
    "\n",
    "# a: 기울기, xx: x1, yy: x2\n",
    "a = -w[0] / w[1]\n",
    "xx = np.linspace(25,100)\n",
    "yy = a * xx - b[0] / w[1]\n",
    "\n",
    "plt.plot(xx, yy);\n",
    "plt.scatter(train_data[blue, 0], train_data[blue, 1], marker='^')\n",
    "plt.scatter(train_data[yellow, 0], train_data[yellow, 1], marker='s')\n",
    "plt.show()"
   ]
  },
  {
   "cell_type": "code",
   "execution_count": 36,
   "metadata": {},
   "outputs": [
    {
     "data": {
      "text/plain": [
       "[<matplotlib.lines.Line2D at 0x1ef3c7175c8>]"
      ]
     },
     "execution_count": 36,
     "metadata": {},
     "output_type": "execute_result"
    },
    {
     "data": {
      "image/png": "[encoded data removed]",
      "text/plain": [
       "<Figure size 432x288 with 1 Axes>"
      ]
     },
     "metadata": {},
     "output_type": "display_data"
    }
   ],
   "source": [
    "# Put your code\n",
    "# Plot Only support vector\n",
    "yy1 = a * xx - (b[0] - 2) / w[1]\n",
    "yy2 = a * xx - (b[0] + 2) / w[1]\n",
    "\n",
    "plt.plot(xx, yy1, 'r')\n",
    "plt.plot(xx, yy2, 'r')\n",
    "plt.plot(xx, yy)"
   ]
  },
  {
   "cell_type": "code",
   "execution_count": null,
   "metadata": {},
   "outputs": [],
   "source": []
  }
 ],
 "metadata": {
  "kernelspec": {
   "display_name": "Python 3",
   "language": "python",
   "name": "python3"
  },
  "language_info": {
   "codemirror_mode": {
    "name": "ipython",
    "version": 3
   },
   "file_extension": ".py",
   "mimetype": "text/x-python",
   "name": "python",
   "nbconvert_exporter": "python",
   "pygments_lexer": "ipython3",
   "version": "3.7.4"
  }
 },
 "nbformat": 4,
 "nbformat_minor": 4
}
